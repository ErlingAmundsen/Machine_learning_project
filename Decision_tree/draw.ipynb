{
 "cells": [
  {
   "cell_type": "code",
   "execution_count": 4,
   "metadata": {},
   "outputs": [],
   "source": [
    "import sys\n",
    "import graphviz\n",
    "import numpy as np\n",
    "import uuid\n",
    "\n",
    "from sklearn.model_selection import train_test_split\n",
    "\n",
    "sys.path.append('..')\n",
    "from Decision_tree.decision_Tree import DecisionTree"
   ]
  },
  {
   "cell_type": "code",
   "execution_count": 23,
   "metadata": {},
   "outputs": [
    {
     "name": "stdout",
     "output_type": "stream",
     "text": [
      "X shape:  (10000, 784)\n",
      "y shape:  (10000,)\n"
     ]
    },
    {
     "name": "stderr",
     "output_type": "stream",
     "text": [
      "                                                   \r"
     ]
    },
    {
     "name": "stdout",
     "output_type": "stream",
     "text": [
      "Train score 0.6865\n"
     ]
    }
   ],
   "source": [
    "data = np.load('../Data/fashion_train.npy')\n",
    "X = data[:,:-1]\n",
    "y = data[:,-1]\n",
    "print(\"X shape: \", X.shape)\n",
    "print(\"y shape: \", y.shape)\n",
    "\n",
    "data = X > 15\n",
    "\n",
    "clf = DecisionTree(data, y, debug = False, max_depth = 5)\n",
    "clf.fit()\n",
    "\n",
    "print(\"Train score\", clf.score(X, y))"
   ]
  },
  {
   "cell_type": "code",
   "execution_count": 24,
   "metadata": {},
   "outputs": [],
   "source": [
    "labels = ['T-shirt/top', 'Trouser', 'Pullover', 'Dress', 'Shirt']\n",
    "label_colors = ['#0000ff', '#ffac1c', '#228b22', '#ee4b2b', '#800080']\n"
   ]
  },
  {
   "cell_type": "code",
   "execution_count": 25,
   "metadata": {},
   "outputs": [],
   "source": [
    "def readTree(parent, current_node, dot):\n",
    "\n",
    "    i = uuid.uuid1()\n",
    "    if current_node.data[\"leaf\"]:\n",
    "        dot.node(str(i), \n",
    "                 labels[current_node.data[\"class\"]],\n",
    "                 style='filled',\n",
    "                 fontcolor='white',\n",
    "                 color=label_colors[current_node.data[\"class\"]])\n",
    "        dot.edge(str(parent), str(i))\n",
    "        return\n",
    "\n",
    "    dot.node(str(i),\n",
    "             \"Feature: \" + str(current_node.data[\"feature\"])\n",
    "             + \" <= \" + str(current_node.data[\"cutoff\"][0])\n",
    "             + \"\\n\" + \"Datapoints: \" + str(current_node.data[\"count_datapoints\"])\n",
    "             + \"\\n\" + \"Impurity: \" + str(current_node.data[\"impurity\"]),\n",
    "             color='black',\n",
    "             style='filled',\n",
    "             fillcolor='beige',\n",
    "             shape='box')\n",
    "    dot.edge(str(parent), str(i))\n",
    "    \n",
    "    readTree(i, current_node.leftChild, dot)\n",
    "    readTree(i, current_node.rightChild, dot)\n"
   ]
  },
  {
   "cell_type": "code",
   "execution_count": 26,
   "metadata": {},
   "outputs": [],
   "source": [
    "dot = graphviz.Digraph(comment='Decision Tree')\n",
    "i = uuid.uuid1()\n",
    "\n",
    "tree = clf.tree\n",
    "dot.node(str(i),\n",
    "         \"Feature: \" + \"feature: \" + str(tree.data[\"feature\"])\n",
    "        + \" <= \" + str(tree.data[\"cutoff\"][0])\n",
    "        + \"\\n\" + \"Datapoints: \" + str(tree.data[\"count_datapoints\"])\n",
    "        + \"\\n\" + \"Impurity: \" + str(tree.data[\"impurity\"]),\n",
    "        color='black',\n",
    "        style='filled',\n",
    "        fillcolor='beige',\n",
    "        shape='box')\n",
    "\n",
    "readTree(i, tree.leftChild, dot)\n",
    "readTree(i, tree.rightChild, dot)\n"
   ]
  },
  {
   "cell_type": "code",
   "execution_count": 28,
   "metadata": {},
   "outputs": [
    {
     "data": {
      "text/plain": [
       "'tree.gv.png'"
      ]
     },
     "execution_count": 28,
     "metadata": {},
     "output_type": "execute_result"
    }
   ],
   "source": [
    "dot.render('tree.gv', view=True, format='png').replace('\\\\', '/')"
   ]
  }
 ],
 "metadata": {
  "kernelspec": {
   "display_name": "Python 3",
   "language": "python",
   "name": "python3"
  },
  "language_info": {
   "codemirror_mode": {
    "name": "ipython",
    "version": 3
   },
   "file_extension": ".py",
   "mimetype": "text/x-python",
   "name": "python",
   "nbconvert_exporter": "python",
   "pygments_lexer": "ipython3",
   "version": "3.11.0"
  },
  "orig_nbformat": 4,
  "vscode": {
   "interpreter": {
    "hash": "aee8b7b246df8f9039afb4144a1f6fd8d2ca17a180786b69acc140d282b71a49"
   }
  }
 },
 "nbformat": 4,
 "nbformat_minor": 2
}
