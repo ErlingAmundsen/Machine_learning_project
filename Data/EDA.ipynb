{
 "cells": [
  {
   "cell_type": "code",
   "execution_count": 1,
   "metadata": {},
   "outputs": [],
   "source": [
    "import numpy as np\n",
    "import pandas as pd\n",
    "import matplotlib.pyplot as plt\n",
    "import random\n",
    "from sklearn.model_selection import train_test_split\n",
    "from scipy.signal import convolve2d\n",
    "from skimage.measure import label\n",
    "from skimage.filters import threshold_otsu\n",
    "from skimage.segmentation import clear_border\n",
    "from skimage.measure import label, regionprops\n",
    "from skimage.morphology import closing, square\n",
    "from skimage.color import label2rgb"
   ]
  },
  {
   "cell_type": "code",
   "execution_count": 2,
   "metadata": {},
   "outputs": [],
   "source": [
    "# Read the data\n",
    "data = np.load('fashion_train.npy')\n",
    "test = np.load('fashion_test.npy')\n",
    "\n",
    "# Split the data into features and labels\n",
    "X_data = data[:, :-1]\n",
    "y_data = data[:, -1]\n",
    "\n",
    "X_test = test[:, :-1]\n",
    "y_test = test[:, -1]"
   ]
  },
  {
   "cell_type": "code",
   "execution_count": 3,
   "metadata": {},
   "outputs": [],
   "source": [
    "# split data into training and validation sets\n",
    "X_train, X_val, y_train, y_val = train_test_split(X_data, y_data, test_size=0.2, random_state=0)"
   ]
  },
  {
   "cell_type": "code",
   "execution_count": 4,
   "metadata": {},
   "outputs": [],
   "source": [
    "label_dict = {0: 'T-shirt/top', 1: 'Trouser', 2: 'Pullover', 3: 'Dress', 4: 'Shirt'}\n",
    "\n",
    "# Labels to names\n",
    "labels = np.array(['T-shirt/top', 'Trouser', 'Pullover', 'Dress', 'Shirt'])"
   ]
  },
  {
   "cell_type": "code",
   "execution_count": 5,
   "metadata": {},
   "outputs": [
    {
     "name": "stdout",
     "output_type": "stream",
     "text": [
      "Training dataset:\n",
      "{'T-shirt/top': 1627, 'Trouser': 1554, 'Pullover': 1591, 'Dress': 1610, 'Shirt': 1618}\n",
      "{'T-shirt/top': 20.3375, 'Trouser': 19.425, 'Pullover': 19.8875, 'Dress': 20.125, 'Shirt': 20.225}\n",
      "\n",
      "Validation dataset:\n",
      "{'T-shirt/top': 406, 'Trouser': 393, 'Pullover': 410, 'Dress': 395, 'Shirt': 396}\n",
      "{'T-shirt/top': 20.3, 'Trouser': 19.650000000000002, 'Pullover': 20.5, 'Dress': 19.75, 'Shirt': 19.8}\n",
      "\n",
      "Test dataset:\n",
      "{'T-shirt/top': 1000, 'Trouser': 1000, 'Pullover': 1000, 'Dress': 1000, 'Shirt': 1000}\n",
      "{'T-shirt/top': 20.0, 'Trouser': 20.0, 'Pullover': 20.0, 'Dress': 20.0, 'Shirt': 20.0}\n",
      "\n"
     ]
    }
   ],
   "source": [
    "# get count of different labels in the training set\n",
    "for dataset, name in zip([y_train, y_val, y_test], ['Training', 'Validation', 'Test']):\n",
    "    print(f'{name} dataset:')\n",
    "    unique, counts = np.unique(dataset, return_counts=True)\n",
    "    print(dict(zip(labels[unique], counts)))\n",
    "    print(dict(zip(labels[unique], counts / len(dataset) * 100)))\n",
    "    print()"
   ]
  },
  {
   "cell_type": "code",
   "execution_count": 6,
   "metadata": {},
   "outputs": [],
   "source": [
    "def getLargestCC(segmentation):\n",
    "    labels = label(segmentation)\n",
    "    assert( labels.max() != 0 ) # assume at least 1 CC\n",
    "    largestCC = labels == np.argmax(np.bincount(labels.flat)[1:])+1\n",
    "    return largestCC"
   ]
  },
  {
   "cell_type": "code",
   "execution_count": 7,
   "metadata": {},
   "outputs": [
    {
     "data": {
      "text/plain": [
       "<matplotlib.image.AxesImage at 0x7ff13904e1c0>"
      ]
     },
     "execution_count": 7,
     "metadata": {},
     "output_type": "execute_result"
    },
    {
     "data": {
      "image/png": "[encoded data removed]",
      "text/plain": [
       "<Figure size 640x480 with 1 Axes>"
      ]
     },
     "metadata": {},
     "output_type": "display_data"
    }
   ],
   "source": [
    "plt.imshow(X_train[3].reshape(28, 28), cmap='gray')"
   ]
  },
  {
   "cell_type": "code",
   "execution_count": 8,
   "metadata": {},
   "outputs": [
    {
     "data": {
      "image/png": "[encoded data removed]",
      "text/plain": [
       "<Figure size 1000x600 with 1 Axes>"
      ]
     },
     "metadata": {},
     "output_type": "display_data"
    }
   ],
   "source": [
    "import matplotlib.pyplot as plt\n",
    "import matplotlib.patches as mpatches\n",
    "\n",
    "img = X_train[0].reshape(28, 28)\n",
    "thresh = threshold_otsu(img)\n",
    "bw = closing(img > thresh, square(3))\n",
    "\n",
    "cleared = clear_border(bw)\n",
    "label_image = label(cleared)\n",
    "# to make the background transparent, pass the value of `bg_label`,\n",
    "# and leave `bg_color` as `None` and `kind` as `overlay`\n",
    "image_label_overlay = label2rgb(label_image, image=img, bg_label=0)\n",
    "\n",
    "fig, ax = plt.subplots(figsize=(10, 6))\n",
    "ax.imshow(image_label_overlay)\n",
    "\n",
    "for region in regionprops(label_image):\n",
    "    # take regions with large enough areas\n",
    "    if region.area >= 100:\n",
    "        # draw rectangle around segmented coins\n",
    "        minr, minc, maxr, maxc = region.bbox\n",
    "        rect = mpatches.Rectangle((minc, minr), maxc - minc, maxr - minr,\n",
    "                                  fill=False, edgecolor='red', linewidth=2)\n",
    "        ax.add_patch(rect)\n",
    "\n",
    "ax.set_axis_off()\n",
    "plt.tight_layout()\n",
    "plt.show()\n"
   ]
  },
  {
   "cell_type": "code",
   "execution_count": 65,
   "metadata": {},
   "outputs": [
    {
     "data": {
      "image/png": "[encoded data removed]",
      "text/plain": [
       "<Figure size 2000x10000 with 5 Axes>"
      ]
     },
     "metadata": {},
     "output_type": "display_data"
    }
   ],
   "source": [
    "# print out the first 5 differently labeled 28x28 images in the training set and their labels\n",
    "plt.figure(figsize=(20, 100))\n",
    "\n",
    "vis = set()\n",
    "i = 0\n",
    "k = 0\n",
    "\n",
    "while k < 5:\n",
    "    X = X_train[i]\n",
    "    label = y_train[i]\n",
    "    if label in vis:\n",
    "        i += 1\n",
    "        continue\n",
    "\n",
    "    mask = 1/16 * np.array([\n",
    "        [1, 2, 1],\n",
    "        [2, 4, 2],\n",
    "        [1, 2, 1]\n",
    "    ])\n",
    "    \n",
    "\n",
    "    plt.subplot(1, 5, k + 1)\n",
    "    img = X.reshape(28, 28)\n",
    "    img = img > 10\n",
    "    # img = convolve2d(img, mask)\n",
    "\n",
    "    plt.imshow(img, cmap='gray')\n",
    "    plt.title(f\"{labels[label]} - {label}\")\n",
    "    plt.axis('off')\n",
    "    vis.add(label)\n",
    "    k += 1\n",
    "    i += 1"
   ]
  },
  {
   "cell_type": "code",
   "execution_count": null,
   "metadata": {},
   "outputs": [],
   "source": [
    "# convert all images in the training set to boolean values (True if pixel value > 35, False otherwise)\n",
    "X_train_bool = X_train > 35\n",
    "\n",
    "plt.imshow(X_train_bool[2].reshape(28, 28), cmap='gray')"
   ]
  },
  {
   "cell_type": "code",
   "execution_count": null,
   "metadata": {},
   "outputs": [],
   "source": [
    "# PCA of training set\n",
    "from sklearn.decomposition import PCA\n",
    "\n",
    "pca_data = X_data / 255\n",
    "\n",
    "pca = PCA(n_components=3)\n",
    "pca_transformed = pca.fit_transform(pca_data)"
   ]
  },
  {
   "cell_type": "code",
   "execution_count": null,
   "metadata": {},
   "outputs": [],
   "source": [
    "# 2d plot of the first 2 principal components\n",
    "plt.figure(figsize=(10, 10))\n",
    "for i in range(5):\n",
    "    plt.scatter(pca_transformed[y_data == i, 0], pca_transformed[y_data == i, 1], label=label_dict[i])\n",
    "plt.legend()"
   ]
  },
  {
   "cell_type": "code",
   "execution_count": null,
   "metadata": {},
   "outputs": [],
   "source": [
    "%matplotlib widget\n",
    "# 3d plot of the first 3 principal components\n",
    "from mpl_toolkits.mplot3d import Axes3D\n",
    "\n",
    "fig = plt.figure(figsize=(10, 10))\n",
    "ax = fig.add_subplot(111, projection='3d')\n",
    "for i in [0, 4]:\n",
    "    ax.scatter(pca_transformed[y_data == i, 0], pca_transformed[y_data == i, 1], pca_transformed[y_data == i, 2], label=label_dict[i])\n",
    "plt.legend()"
   ]
  },
  {
   "cell_type": "code",
   "execution_count": 58,
   "metadata": {},
   "outputs": [
    {
     "data": {
      "text/plain": [
       "<matplotlib.image.AxesImage at 0x7ff1091082b0>"
      ]
     },
     "execution_count": 58,
     "metadata": {},
     "output_type": "execute_result"
    },
    {
     "data": {
      "image/png": "[encoded data removed]",
      "text/plain": [
       "<Figure size 640x480 with 1 Axes>"
      ]
     },
     "metadata": {},
     "output_type": "display_data"
    }
   ],
   "source": [
    "img = X_train[3].reshape(28, 28)\n",
    "\n",
    "plt.imshow(img, cmap='gray')"
   ]
  },
  {
   "cell_type": "code",
   "execution_count": 59,
   "metadata": {},
   "outputs": [
    {
     "data": {
      "text/plain": [
       "<matplotlib.image.AxesImage at 0x7ff13a096760>"
      ]
     },
     "execution_count": 59,
     "metadata": {},
     "output_type": "execute_result"
    },
    {
     "data": {
      "image/png": "[encoded data removed]",
      "text/plain": [
       "<Figure size 640x480 with 1 Axes>"
      ]
     },
     "metadata": {},
     "output_type": "display_data"
    }
   ],
   "source": [
    "mask = np.array(\n",
    "    [\n",
    "        [0, 1, 0],\n",
    "        [1, -4, 1],\n",
    "        [0, 1, 0]\n",
    "    ]\n",
    ")\n",
    "\n",
    "edge_img = convolve2d(img, mask, mode = \"same\")\n",
    "plt.imshow(edge_img, cmap='gray')"
   ]
  },
  {
   "cell_type": "code",
   "execution_count": 60,
   "metadata": {},
   "outputs": [
    {
     "data": {
      "text/plain": [
       "<matplotlib.image.AxesImage at 0x7ff13a1cc310>"
      ]
     },
     "execution_count": 60,
     "metadata": {},
     "output_type": "execute_result"
    },
    {
     "data": {
      "image/png": "[encoded data removed]",
      "text/plain": [
       "<Figure size 640x480 with 1 Axes>"
      ]
     },
     "metadata": {},
     "output_type": "display_data"
    }
   ],
   "source": [
    "mask = 1/9 * np.array(\n",
    "    [\n",
    "        [1, 1, 1],\n",
    "        [1, 1, 1],\n",
    "        [1, 1, 1]\n",
    "    ]\n",
    ")\n",
    "\n",
    "edge_img = convolve2d(img, mask, mode = \"same\")\n",
    "plt.imshow(edge_img, cmap='gray')"
   ]
  },
  {
   "cell_type": "code",
   "execution_count": null,
   "metadata": {},
   "outputs": [],
   "source": []
  }
 ],
 "metadata": {
  "kernelspec": {
   "display_name": "base",
   "language": "python",
   "name": "python3"
  },
  "language_info": {
   "codemirror_mode": {
    "name": "ipython",
    "version": 3
   },
   "file_extension": ".py",
   "mimetype": "text/x-python",
   "name": "python",
   "nbconvert_exporter": "python",
   "pygments_lexer": "ipython3",
   "version": "3.9.12"
  },
  "orig_nbformat": 4,
  "vscode": {
   "interpreter": {
    "hash": "753d92843dab88547ed30a2183c2c371a37c3e6fe33e3da8d761872c353c5059"
   }
  }
 },
 "nbformat": 4,
 "nbformat_minor": 2
}
