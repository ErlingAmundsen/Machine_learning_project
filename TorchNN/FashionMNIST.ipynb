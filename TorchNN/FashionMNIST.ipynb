{
  "nbformat": 4,
  "nbformat_minor": 0,
  "metadata": {
    "colab": {
      "provenance": []
    },
    "kernelspec": {
      "name": "python3",
      "display_name": "Python 3"
    },
    "language_info": {
      "name": "python"
    },
    "accelerator": "GPU",
    "gpuClass": "standard"
  },
  "cells": [
    {
      "cell_type": "markdown",
      "source": [
        "# Fashion MNIST classification"
      ],
      "metadata": {
        "id": "0e-ufuDO1C3I"
      }
    },
    {
      "cell_type": "markdown",
      "source": [
        "Model trained on google colab"
      ],
      "metadata": {
        "id": "tzbc_wfy6Izm"
      }
    },
    {
      "cell_type": "markdown",
      "source": [
        "### Imports"
      ],
      "metadata": {
        "id": "cVmVYyeY1OYn"
      }
    },
    {
      "cell_type": "code",
      "source": [
        "import os\n",
        "import torch\n",
        "import torchvision\n",
        "import tarfile\n",
        "import numpy as np\n",
        "import torch.nn as nn\n",
        "import torch.nn.functional as F\n",
        "from torchvision.datasets import ImageFolder\n",
        "from torch.utils.data import DataLoader, random_split, Dataset\n",
        "import torchvision.transforms as tt\n",
        "from torchvision.utils import make_grid\n",
        "import matplotlib\n",
        "import matplotlib.pyplot as plt\n",
        "from sklearn.model_selection import train_test_split\n",
        "from sklearn.metrics import confusion_matrix\n",
        "import pandas as pd\n",
        "\n",
        "import seaborn as sns"
      ],
      "metadata": {
        "id": "-n3uM2Ue1QXM"
      },
      "execution_count": 21,
      "outputs": []
    },
    {
      "cell_type": "markdown",
      "source": [
        "### Dataset Class"
      ],
      "metadata": {
        "id": "abPp4rO81HZQ"
      }
    },
    {
      "cell_type": "code",
      "execution_count": 2,
      "metadata": {
        "id": "sRmUpdcT1Bo7"
      },
      "outputs": [],
      "source": [
        "# create class data that holds fashion mnist data\n",
        "class Data(Dataset):\n",
        "    def __init__(self, test=False, val=False, final=False, transform=None):\n",
        "        self.transform = transform\n",
        "        data = np.load(file = f\"fashion_{'test' if test else 'train'}.npy\")\n",
        "\n",
        "        # split to x and y\n",
        "        images, targets = data[:, :-1], data[:, -1]\n",
        "        \n",
        "        if not (test or final):\n",
        "            # split train to train and validation\n",
        "            images, val_x, targets, val_y = train_test_split(images, targets, test_size=0.2, random_state=42)\n",
        "\n",
        "            if val:\n",
        "                images = val_x\n",
        "                targets = val_y\n",
        "        \n",
        "        # convert to tensors\n",
        "        self.images = torch.from_numpy(images).reshape(-1, 1, 28, 28).float()\n",
        "        self.targets = torch.from_numpy(targets).long()\n",
        "    \n",
        "    def __len__(self):\n",
        "        return len(self.images)\n",
        "\n",
        "    def __getitem__(self, idx):\n",
        "      img, target = self.images[idx], self.targets[idx]\n",
        "      if self.transform:\n",
        "        img = self.transform(img)\n",
        "      return img, target"
      ]
    },
    {
      "cell_type": "markdown",
      "source": [
        "### CNN Model class"
      ],
      "metadata": {
        "id": "Rc3rOt0Q1WLi"
      }
    },
    {
      "cell_type": "code",
      "source": [
        "def conv_block(in_channels, out_channels, pool=False):\n",
        "    layers = [nn.Conv2d(in_channels, out_channels, kernel_size=3, padding=\"same\"), \n",
        "              nn.BatchNorm2d(out_channels), \n",
        "              nn.ReLU(inplace=True)]\n",
        "    if pool: layers.append(nn.MaxPool2d(2))\n",
        "    return nn.Sequential(*layers)\n",
        "\n",
        "class ResNet9(nn.Module):\n",
        "    def __init__(self, in_channels, num_classes):\n",
        "        super().__init__()\n",
        "        \n",
        "        self.conv1 = conv_block(in_channels, 64)\n",
        "        self.conv2 = conv_block(64, 128, pool=True)\n",
        "        self.res1 = nn.Sequential(conv_block(128, 128), conv_block(128, 128))\n",
        "        \n",
        "        self.conv3 = conv_block(128, 256, pool=True)\n",
        "        self.conv4 = conv_block(256, 512, pool=True)\n",
        "        self.res2 = nn.Sequential(conv_block(512, 512), conv_block(512, 512))\n",
        "        \n",
        "        self.classifier = nn.Sequential(nn.MaxPool2d(3), \n",
        "                                        nn.Flatten(), \n",
        "                                        nn.Dropout(0.2),\n",
        "                                        nn.Linear(512, num_classes)\n",
        "                                        )\n",
        "        \n",
        "    def forward(self, xb):\n",
        "        out = self.conv1(xb)\n",
        "        out = self.conv2(out)\n",
        "        out = self.res1(out) + out\n",
        "        out = self.conv3(out)\n",
        "        out = self.conv4(out)\n",
        "        out = self.res2(out) + out\n",
        "        out = self.classifier(out)\n",
        "        return out\n",
        "\n",
        "class ConvNet(nn.Module):\n",
        "    def __init__(self, in_channels, num_classes, dropout=0.2):\n",
        "        super().__init__()\n",
        "        self.conv1 = conv_block(1, 16)\n",
        "        self.conv2 = conv_block(16, 32)\n",
        "        self.conv2 = conv_block(32, 16)\n",
        "\n",
        "        self.classifier = nn.Sequential(nn.MaxPool2d(4), \n",
        "                                        nn.Flatten(), \n",
        "                                        nn.Dropout(dropout),\n",
        "                                        nn.Linear(784, num_classes)\n",
        "                                        )\n",
        "    \n",
        "    def forward(self, X):\n",
        "        X = self.conv1(X)\n",
        "        X = self.conv2(X)\n",
        "        X = self.conv3(X)\n",
        "        X = self.classifier(X)\n",
        "        return X"
      ],
      "metadata": {
        "id": "RTOUrV_nc9Rl"
      },
      "execution_count": 3,
      "outputs": []
    },
    {
      "cell_type": "markdown",
      "source": [
        "### Evaluation Helper Function"
      ],
      "metadata": {
        "id": "iiOdLxtf1jU8"
      }
    },
    {
      "cell_type": "code",
      "source": [
        "def dataset_eval(data_loader, model, criterion, device):\n",
        "    loss = []\n",
        "    correct = 0\n",
        "    total = 0\n",
        "    with torch.no_grad():\n",
        "        for images, labels in data_loader:\n",
        "            images = images.to(device)\n",
        "            labels = labels.to(device)\n",
        "            preds = model(images)\n",
        "            _, predicted = torch.max(preds.data, 1)\n",
        "            total += labels.size(0)\n",
        "            correct += (predicted == labels).sum().item()\n",
        "            loss.append(criterion(preds, labels).item())\n",
        "\n",
        "    accuracy = correct / total\n",
        "\n",
        "    return accuracy, np.mean(loss)"
      ],
      "metadata": {
        "id": "fSGuoGln1okV"
      },
      "execution_count": 4,
      "outputs": []
    },
    {
      "cell_type": "markdown",
      "source": [],
      "metadata": {
        "id": "rqvZFnwNT9xl"
      }
    },
    {
      "cell_type": "markdown",
      "source": [
        "### Loading the data/data augmentation/normalization"
      ],
      "metadata": {
        "id": "Ivx5qllp2po2"
      }
    },
    {
      "cell_type": "code",
      "source": [
        "train, test = np.load(file=\"fashion_train.npy\"), np.load(file=\"fashion_test.npy\")\n",
        "X, y = train[:, :-1], train[:, -1]\n",
        "\n",
        "# get mean and std of data\n",
        "train_mean = np.mean(X)\n",
        "train_std = np.std(X)\n",
        "\n",
        "# Data Augmentation and normalization for train and val\n",
        "train_stats = (train_mean, train_std)\n",
        "train_transformer = tt.Compose([tt.RandomCrop(28, padding=2, padding_mode='reflect'), \n",
        "                         tt.RandomHorizontalFlip(), \n",
        "                         tt.Normalize(*train_stats,inplace=True)\n",
        "                         ])\n",
        "validation_transformer = tt.Compose([tt.Normalize(*train_stats)])\n",
        "\n",
        "# Data augmentation and normalization for total trainset and test\n",
        "total = np.concatenate((train, test))\n",
        "X, y = total[:, :-1], total[:, -1]\n",
        "total_mean = np.mean(X)\n",
        "total_std = np.std(X)\n",
        "\n",
        "total_stats = (total_mean, total_std)\n",
        "total_transformer = tt.Compose([tt.RandomCrop(28, padding=2, padding_mode='reflect'), \n",
        "                         tt.RandomHorizontalFlip(), \n",
        "                         tt.Normalize(*total_stats,inplace=True)\n",
        "                         ])\n",
        "test_transformer = tt.Compose([tt.Normalize(*total_stats)])"
      ],
      "metadata": {
        "id": "YSrk1y0WXB7Y"
      },
      "execution_count": 5,
      "outputs": []
    },
    {
      "cell_type": "markdown",
      "source": [
        "CPU optimization by: https://jovian.ai/aakashns/05b-cifar10-resnet#C25"
      ],
      "metadata": {
        "id": "_2zCkr7wYc7d"
      }
    },
    {
      "cell_type": "code",
      "source": [
        "def get_default_device():\n",
        "    \"\"\"Pick GPU if available, else CPU\"\"\"\n",
        "    if torch.cuda.is_available():\n",
        "        return torch.device('cuda')\n",
        "    else:\n",
        "        return torch.device('cpu')\n",
        "    \n",
        "def to_device(data, device):\n",
        "    \"\"\"Move tensor(s) to chosen device\"\"\"\n",
        "    if isinstance(data, (list,tuple)):\n",
        "        return [to_device(x, device) for x in data]\n",
        "    return data.to(device, non_blocking=True)\n",
        "\n",
        "class DeviceDataLoader():\n",
        "    \"\"\"Wrap a dataloader to move data to a device\"\"\"\n",
        "    def __init__(self, dl, device):\n",
        "        self.dl = dl\n",
        "        self.device = device\n",
        "        \n",
        "    def __iter__(self):\n",
        "        \"\"\"Yield a batch of data after moving it to device\"\"\"\n",
        "        for b in self.dl: \n",
        "            yield to_device(b, self.device)\n",
        "\n",
        "    def __len__(self):\n",
        "        \"\"\"Number of batches\"\"\"\n",
        "        return len(self.dl)"
      ],
      "metadata": {
        "id": "5X7NDW2pd12U"
      },
      "execution_count": 6,
      "outputs": []
    },
    {
      "cell_type": "code",
      "source": [
        "# Device configuration\n",
        "device = get_default_device()\n",
        "print(device)\n",
        "\n",
        "# Hyper-parameters\n",
        "EPOCHS = 50\n",
        "BATCH_SIZE = 400\n",
        "WEIGHT_DECAY = 0.0005\n",
        "MAX_LEARNING_RATE = 0.01\n",
        "\n",
        "# Load data into dataset objects\n",
        "train = Data(transform=train_transformer)\n",
        "val = Data(val=True, transform=validation_transformer)\n",
        "test = Data(test=True, transform=validation_transformer)\n",
        "final = Data(final=True, transform=total_transformer)\n",
        "\n",
        "# Data loader\n",
        "train_loader = DataLoader(dataset=train, batch_size=BATCH_SIZE, shuffle=True, num_workers=3, pin_memory=True)\n",
        "val_loader = DataLoader(dataset=val, batch_size=BATCH_SIZE, shuffle=False, num_workers=3, pin_memory=True)\n",
        "test_loader = DataLoader(dataset=test, batch_size=BATCH_SIZE, shuffle=False, num_workers=3, pin_memory=True)\n",
        "final_loader = DataLoader(dataset=final, batch_size=BATCH_SIZE, shuffle=False, num_workers=3, pin_memory=True)\n",
        "\n",
        "# DeviceDataLoaders\n",
        "train_loader = DeviceDataLoader(train_loader, device)\n",
        "val_loader = DeviceDataLoader(val_loader, device)\n",
        "test_loader = DeviceDataLoader(test_loader, device)\n",
        "final_loader = DeviceDataLoader(final_loader, device)"
      ],
      "metadata": {
        "id": "3mf5RXiH2ra9",
        "outputId": "78f322e1-01e5-4fde-f5c5-b0c3d9ccedca",
        "colab": {
          "base_uri": "https://localhost:8080/"
        }
      },
      "execution_count": 7,
      "outputs": [
        {
          "output_type": "stream",
          "name": "stdout",
          "text": [
            "cuda\n"
          ]
        },
        {
          "output_type": "stream",
          "name": "stderr",
          "text": [
            "/usr/local/lib/python3.8/dist-packages/torch/utils/data/dataloader.py:554: UserWarning: This DataLoader will create 3 worker processes in total. Our suggested max number of worker in current system is 2, which is smaller than what this DataLoader is going to create. Please be aware that excessive worker creation might get DataLoader running slow or even freeze, lower the worker number to avoid potential slowness/freeze if necessary.\n",
            "  warnings.warn(_create_warning_msg(\n"
          ]
        }
      ]
    },
    {
      "cell_type": "markdown",
      "source": [
        "### Model initialization"
      ],
      "metadata": {
        "id": "277TThbu6pmH"
      }
    },
    {
      "cell_type": "code",
      "source": [
        "# Initialize model\n",
        "model = ResNet9(1, 5).to(device)\n",
        "\n",
        "# Loss and optimizer\n",
        "criterion = nn.CrossEntropyLoss()\n",
        "optimizer = torch.optim.Adam(model.parameters(), lr=MAX_LEARNING_RATE, weight_decay=WEIGHT_DECAY)\n",
        "\n",
        "# learning rate scheduler\n",
        "scheduler = torch.optim.lr_scheduler.OneCycleLR(optimizer, MAX_LEARNING_RATE, epochs=EPOCHS, \n",
        "                                                steps_per_epoch=len(train_loader))"
      ],
      "metadata": {
        "id": "JFtVG2dN6swP"
      },
      "execution_count": 8,
      "outputs": []
    },
    {
      "cell_type": "markdown",
      "source": [
        "### Training"
      ],
      "metadata": {
        "id": "ya5g3Gho1rQv"
      }
    },
    {
      "cell_type": "code",
      "source": [
        "total_step = len(train_loader)\n",
        "loss_hist_train = []\n",
        "loss_hist_val = []\n",
        "acc_hist_train = []\n",
        "acc_hist_val = []\n",
        "for epoch in range(EPOCHS):\n",
        "    train_loss = []\n",
        "    total_train = 0\n",
        "    correct_train = 0\n",
        "    for images, labels in train_loader:\n",
        "        # Move tensors to the configured device\n",
        "        images = to_device(images, device)\n",
        "        labels = to_device(labels, device)\n",
        "\n",
        "        # Forward pass\n",
        "        preds = model(images)\n",
        "        _, predicted = torch.max(preds.data, 1)\n",
        "        correct_train += (predicted == labels).sum().item()\n",
        "        total_train += labels.size(0)\n",
        "        loss = criterion(preds, labels)\n",
        "        train_loss.append(loss.item())\n",
        "\n",
        "        # Backward and optimize\n",
        "        optimizer.zero_grad()\n",
        "        loss.backward()\n",
        "        optimizer.step()\n",
        "\n",
        "        # update learning rate\n",
        "        scheduler.step()\n",
        "            \n",
        "    # calculate epoch train and test metrics\n",
        "    train_accuracy = correct_train / total_train\n",
        "    acc_hist_train.append(train_accuracy)\n",
        "    train_loss = sum(train_loss) / len(train_loss)\n",
        "    loss_hist_train.append(train_loss)\n",
        "    val_accuracy, val_loss = dataset_eval(val_loader, model, criterion, device)\n",
        "    acc_hist_val.append(val_accuracy)\n",
        "    loss_hist_val.append(val_loss)\n",
        "\n",
        "    print(f'Epoch [{epoch + 1}/{EPOCHS}]{\"\": >30}\\nTrain Loss: {train_loss:.4f} - Val Loss: {val_loss:.4f}\\nTrain Accuracy: {train_accuracy:.2%} - Val Accuracy: {val_accuracy:.2%}')\n",
        "    \n",
        "  "
      ],
      "metadata": {
        "id": "3Zxd0A3h1sxN",
        "outputId": "c7eaa8dd-ff18-40d1-dad4-54569215d226",
        "colab": {
          "base_uri": "https://localhost:8080/"
        }
      },
      "execution_count": 9,
      "outputs": [
        {
          "output_type": "stream",
          "name": "stdout",
          "text": [
            "Epoch [1/50]                              \n",
            "Train Loss: 0.8877 - Val Loss: 0.6014\n",
            "Train Accuracy: 67.34% - Val Accuracy: 76.00%\n",
            "Epoch [2/50]                              \n",
            "Train Loss: 0.5336 - Val Loss: 0.4849\n",
            "Train Accuracy: 79.20% - Val Accuracy: 82.35%\n",
            "Epoch [3/50]                              \n",
            "Train Loss: 0.4426 - Val Loss: 0.4276\n",
            "Train Accuracy: 83.33% - Val Accuracy: 83.15%\n",
            "Epoch [4/50]                              \n",
            "Train Loss: 0.3971 - Val Loss: 0.4252\n",
            "Train Accuracy: 84.80% - Val Accuracy: 83.80%\n",
            "Epoch [5/50]                              \n",
            "Train Loss: 0.4028 - Val Loss: 0.4867\n",
            "Train Accuracy: 84.47% - Val Accuracy: 82.95%\n",
            "Epoch [6/50]                              \n",
            "Train Loss: 0.3857 - Val Loss: 0.3864\n",
            "Train Accuracy: 85.46% - Val Accuracy: 85.55%\n",
            "Epoch [7/50]                              \n",
            "Train Loss: 0.3480 - Val Loss: 0.4338\n",
            "Train Accuracy: 86.36% - Val Accuracy: 83.45%\n",
            "Epoch [8/50]                              \n",
            "Train Loss: 0.3355 - Val Loss: 0.4320\n",
            "Train Accuracy: 87.40% - Val Accuracy: 84.80%\n",
            "Epoch [9/50]                              \n",
            "Train Loss: 0.3322 - Val Loss: 0.3493\n",
            "Train Accuracy: 87.67% - Val Accuracy: 86.80%\n",
            "Epoch [10/50]                              \n",
            "Train Loss: 0.3813 - Val Loss: 0.4164\n",
            "Train Accuracy: 85.81% - Val Accuracy: 84.85%\n",
            "Epoch [11/50]                              \n",
            "Train Loss: 0.3528 - Val Loss: 0.3401\n",
            "Train Accuracy: 86.56% - Val Accuracy: 87.65%\n",
            "Epoch [12/50]                              \n",
            "Train Loss: 0.3442 - Val Loss: 0.3329\n",
            "Train Accuracy: 87.29% - Val Accuracy: 87.80%\n",
            "Epoch [13/50]                              \n",
            "Train Loss: 0.3090 - Val Loss: 0.3247\n",
            "Train Accuracy: 88.41% - Val Accuracy: 88.70%\n",
            "Epoch [14/50]                              \n",
            "Train Loss: 0.3057 - Val Loss: 0.3743\n",
            "Train Accuracy: 88.59% - Val Accuracy: 87.05%\n",
            "Epoch [15/50]                              \n",
            "Train Loss: 0.2997 - Val Loss: 0.3821\n",
            "Train Accuracy: 89.12% - Val Accuracy: 85.25%\n",
            "Epoch [16/50]                              \n",
            "Train Loss: 0.2756 - Val Loss: 0.4320\n",
            "Train Accuracy: 89.50% - Val Accuracy: 85.25%\n",
            "Epoch [17/50]                              \n",
            "Train Loss: 0.3006 - Val Loss: 0.3440\n",
            "Train Accuracy: 88.80% - Val Accuracy: 88.00%\n",
            "Epoch [18/50]                              \n",
            "Train Loss: 0.2551 - Val Loss: 0.3321\n",
            "Train Accuracy: 90.20% - Val Accuracy: 87.55%\n",
            "Epoch [19/50]                              \n",
            "Train Loss: 0.2619 - Val Loss: 0.2782\n",
            "Train Accuracy: 90.05% - Val Accuracy: 90.15%\n",
            "Epoch [20/50]                              \n",
            "Train Loss: 0.2558 - Val Loss: 0.3268\n",
            "Train Accuracy: 90.24% - Val Accuracy: 87.80%\n",
            "Epoch [21/50]                              \n",
            "Train Loss: 0.2642 - Val Loss: 0.3010\n",
            "Train Accuracy: 89.99% - Val Accuracy: 89.40%\n",
            "Epoch [22/50]                              \n",
            "Train Loss: 0.2491 - Val Loss: 0.2858\n",
            "Train Accuracy: 90.69% - Val Accuracy: 89.80%\n",
            "Epoch [23/50]                              \n",
            "Train Loss: 0.2497 - Val Loss: 0.2953\n",
            "Train Accuracy: 90.61% - Val Accuracy: 89.05%\n",
            "Epoch [24/50]                              \n",
            "Train Loss: 0.2454 - Val Loss: 0.2867\n",
            "Train Accuracy: 90.85% - Val Accuracy: 90.15%\n",
            "Epoch [25/50]                              \n",
            "Train Loss: 0.2291 - Val Loss: 0.3003\n",
            "Train Accuracy: 91.49% - Val Accuracy: 88.70%\n",
            "Epoch [26/50]                              \n",
            "Train Loss: 0.2439 - Val Loss: 0.3345\n",
            "Train Accuracy: 90.75% - Val Accuracy: 88.00%\n",
            "Epoch [27/50]                              \n",
            "Train Loss: 0.2186 - Val Loss: 0.2924\n",
            "Train Accuracy: 91.91% - Val Accuracy: 89.75%\n",
            "Epoch [28/50]                              \n",
            "Train Loss: 0.2102 - Val Loss: 0.2998\n",
            "Train Accuracy: 92.22% - Val Accuracy: 89.20%\n",
            "Epoch [29/50]                              \n",
            "Train Loss: 0.2121 - Val Loss: 0.3024\n",
            "Train Accuracy: 91.86% - Val Accuracy: 89.35%\n",
            "Epoch [30/50]                              \n",
            "Train Loss: 0.2058 - Val Loss: 0.2933\n",
            "Train Accuracy: 91.95% - Val Accuracy: 90.10%\n",
            "Epoch [31/50]                              \n",
            "Train Loss: 0.1908 - Val Loss: 0.2821\n",
            "Train Accuracy: 92.75% - Val Accuracy: 90.25%\n",
            "Epoch [32/50]                              \n",
            "Train Loss: 0.1987 - Val Loss: 0.2684\n",
            "Train Accuracy: 92.64% - Val Accuracy: 90.25%\n",
            "Epoch [33/50]                              \n",
            "Train Loss: 0.1783 - Val Loss: 0.2897\n",
            "Train Accuracy: 93.17% - Val Accuracy: 90.05%\n",
            "Epoch [34/50]                              \n",
            "Train Loss: 0.1758 - Val Loss: 0.2721\n",
            "Train Accuracy: 93.60% - Val Accuracy: 90.70%\n",
            "Epoch [35/50]                              \n",
            "Train Loss: 0.1748 - Val Loss: 0.2812\n",
            "Train Accuracy: 93.03% - Val Accuracy: 89.85%\n",
            "Epoch [36/50]                              \n",
            "Train Loss: 0.1627 - Val Loss: 0.2850\n",
            "Train Accuracy: 93.92% - Val Accuracy: 90.05%\n",
            "Epoch [37/50]                              \n",
            "Train Loss: 0.1488 - Val Loss: 0.2564\n",
            "Train Accuracy: 94.56% - Val Accuracy: 91.50%\n",
            "Epoch [38/50]                              \n",
            "Train Loss: 0.1309 - Val Loss: 0.2796\n",
            "Train Accuracy: 95.14% - Val Accuracy: 90.75%\n",
            "Epoch [39/50]                              \n",
            "Train Loss: 0.1250 - Val Loss: 0.2500\n",
            "Train Accuracy: 95.29% - Val Accuracy: 92.00%\n",
            "Epoch [40/50]                              \n",
            "Train Loss: 0.1105 - Val Loss: 0.2705\n",
            "Train Accuracy: 95.79% - Val Accuracy: 91.40%\n",
            "Epoch [41/50]                              \n",
            "Train Loss: 0.1005 - Val Loss: 0.2639\n",
            "Train Accuracy: 96.14% - Val Accuracy: 91.10%\n",
            "Epoch [42/50]                              \n",
            "Train Loss: 0.0943 - Val Loss: 0.2710\n",
            "Train Accuracy: 96.73% - Val Accuracy: 91.15%\n",
            "Epoch [43/50]                              \n",
            "Train Loss: 0.0709 - Val Loss: 0.2774\n",
            "Train Accuracy: 97.61% - Val Accuracy: 91.55%\n",
            "Epoch [44/50]                              \n",
            "Train Loss: 0.0623 - Val Loss: 0.2622\n",
            "Train Accuracy: 97.91% - Val Accuracy: 92.05%\n",
            "Epoch [45/50]                              \n",
            "Train Loss: 0.0533 - Val Loss: 0.2531\n",
            "Train Accuracy: 98.16% - Val Accuracy: 92.20%\n",
            "Epoch [46/50]                              \n",
            "Train Loss: 0.0462 - Val Loss: 0.2633\n",
            "Train Accuracy: 98.49% - Val Accuracy: 91.95%\n",
            "Epoch [47/50]                              \n",
            "Train Loss: 0.0369 - Val Loss: 0.2666\n",
            "Train Accuracy: 99.00% - Val Accuracy: 92.40%\n",
            "Epoch [48/50]                              \n",
            "Train Loss: 0.0324 - Val Loss: 0.2687\n",
            "Train Accuracy: 99.04% - Val Accuracy: 92.40%\n",
            "Epoch [49/50]                              \n",
            "Train Loss: 0.0366 - Val Loss: 0.2652\n",
            "Train Accuracy: 98.92% - Val Accuracy: 92.15%\n",
            "Epoch [50/50]                              \n",
            "Train Loss: 0.0312 - Val Loss: 0.2681\n",
            "Train Accuracy: 99.10% - Val Accuracy: 92.05%\n"
          ]
        }
      ]
    },
    {
      "cell_type": "markdown",
      "source": [
        "### Plotting train/validation loss/accuracy"
      ],
      "metadata": {
        "id": "x5r7jqWQ6w3e"
      }
    },
    {
      "cell_type": "code",
      "source": [
        "fig = plt.figure(figsize=(10, 5))\n",
        "plt.subplot(1, 2, 1)\n",
        "plt.plot(loss_hist_train[15:], label=\"Train loss\")\n",
        "plt.plot(loss_hist_val[15:], label=\"Validation loss\")\n",
        "plt.title(\"Loss\")\n",
        "plt.legend()\n",
        "\n",
        "plt.subplot(1, 2, 2)\n",
        "plt.plot(acc_hist_train[15:], label=\"Train accuracy\")\n",
        "plt.plot(acc_hist_val[15:], label=\"Validation accuracy\")\n",
        "plt.title(\"Accuracy\")\n",
        "plt.legend() \n",
        "plt.show()"
      ],
      "metadata": {
        "id": "ULnaLFXI61na",
        "colab": {
          "base_uri": "https://localhost:8080/",
          "height": 336
        },
        "outputId": "1f0bb8a2-f560-4d85-8f2c-c7616d9353bd"
      },
      "execution_count": 10,
      "outputs": [
        {
          "output_type": "display_data",
          "data": {
            "text/plain": [
              "<Figure size 720x360 with 2 Axes>"
            ],
            "image/png": "[encoded data removed]"
          },
          "metadata": {
            "needs_background": "light"
          }
        }
      ]
    },
    {
      "cell_type": "markdown",
      "source": [
        "### Train and Validation accuracy calc"
      ],
      "metadata": {
        "id": "WyLnA6wu63uB"
      }
    },
    {
      "cell_type": "code",
      "source": [
        "acc, loss = dataset_eval(val_loader, model, criterion, device)\n",
        "print(f'Accuracy of the model on the 8000 train images: {acc:.3%}%')\n",
        "print(f'Loss of the model on the 2000 train images: {loss:.5f}')\n",
        "\n",
        "acc, loss = dataset_eval(train_loader, model, criterion, device)\n",
        "print(f'Accuracy of the model on the 8000 train images: {acc:.3%}')\n",
        "print(f'Loss of the model on the 2000 train images: {loss:.5f}')"
      ],
      "metadata": {
        "id": "P7B_owg66-Mm",
        "colab": {
          "base_uri": "https://localhost:8080/"
        },
        "outputId": "8101d191-38b6-44a0-d695-d406b1af32a5"
      },
      "execution_count": 11,
      "outputs": [
        {
          "output_type": "stream",
          "name": "stdout",
          "text": [
            "Accuracy of the model on the 8000 train images: 92.400%%\n",
            "Loss of the model on the 2000 train images: 0.26418\n",
            "Accuracy of the model on the 8000 train images: 99.050%\n",
            "Loss of the model on the 2000 train images: 0.03382\n"
          ]
        }
      ]
    },
    {
      "cell_type": "markdown",
      "source": [
        "## Final results on Test data"
      ],
      "metadata": {
        "id": "KD9FKdErXKyj"
      }
    },
    {
      "cell_type": "code",
      "source": [
        "# Initialize model\n",
        "model_final = ResNet9(1, 5).to(device)\n",
        "\n",
        "# Loss and optimizer\n",
        "criterion_final = nn.CrossEntropyLoss()\n",
        "optimizer_final = torch.optim.Adam(model_final.parameters(), lr=MAX_LEARNING_RATE, weight_decay=WEIGHT_DECAY)\n",
        "\n",
        "# learning rate scheduler\n",
        "scheduler_final = torch.optim.lr_scheduler.OneCycleLR(optimizer_final, MAX_LEARNING_RATE, epochs=EPOCHS, \n",
        "                                                steps_per_epoch=len(final_loader))"
      ],
      "metadata": {
        "id": "hIbqLMeOZjrO"
      },
      "execution_count": 8,
      "outputs": []
    },
    {
      "cell_type": "code",
      "source": [
        "total_step = len(final_loader)\n",
        "loss_hist_total = []\n",
        "acc_hist_total = []\n",
        "\n",
        "for epoch in range(EPOCHS):\n",
        "    total_loss = []\n",
        "    total_count = 0\n",
        "    correct = 0\n",
        "    for images, labels in final_loader:\n",
        "        # Move tensors to the configured device\n",
        "        images = to_device(images, device)\n",
        "        labels = to_device(labels, device)\n",
        "\n",
        "        # Forward pass\n",
        "        preds = model_final(images)\n",
        "        _, predicted = torch.max(preds.data, 1)\n",
        "        correct += (predicted == labels).sum().item()\n",
        "        total_count += labels.size(0)\n",
        "        loss = criterion_final(preds, labels)\n",
        "        total_loss.append(loss.item())\n",
        "\n",
        "        # Backward and optimize\n",
        "        optimizer_final.zero_grad()\n",
        "        loss.backward()\n",
        "        optimizer_final.step()\n",
        "\n",
        "        # update learning rate\n",
        "        scheduler_final.step()\n",
        "\n",
        "    accuracy = correct / total_count\n",
        "    acc_hist_total.append(accuracy)\n",
        "    mean_loss = sum(total_loss) / len(total_loss)\n",
        "    loss_hist_total.append(mean_loss)\n",
        "            \n",
        "    print(f'Epoch [{epoch + 1}/{EPOCHS}]{\"\": >30}\\nTrain Loss: {mean_loss:.4f} - Train Accuracy: {accuracy:.2%}')\n",
        "    \n",
        "  "
      ],
      "metadata": {
        "id": "1HcAWKVXZomj",
        "colab": {
          "base_uri": "https://localhost:8080/"
        },
        "outputId": "88217653-770f-4224-a873-c7dc3884de3f"
      },
      "execution_count": 9,
      "outputs": [
        {
          "output_type": "stream",
          "name": "stdout",
          "text": [
            "Epoch [1/50]                              \n",
            "Train Loss: 0.9379 - Train Accuracy: 66.26%\n",
            "Epoch [2/50]                              \n",
            "Train Loss: 0.5361 - Train Accuracy: 78.82%\n",
            "Epoch [3/50]                              \n",
            "Train Loss: 0.4620 - Train Accuracy: 82.16%\n",
            "Epoch [4/50]                              \n",
            "Train Loss: 0.4263 - Train Accuracy: 83.26%\n",
            "Epoch [5/50]                              \n",
            "Train Loss: 0.4180 - Train Accuracy: 83.92%\n",
            "Epoch [6/50]                              \n",
            "Train Loss: 0.3887 - Train Accuracy: 84.84%\n",
            "Epoch [7/50]                              \n",
            "Train Loss: 0.3706 - Train Accuracy: 85.78%\n",
            "Epoch [8/50]                              \n",
            "Train Loss: 0.3476 - Train Accuracy: 86.62%\n",
            "Epoch [9/50]                              \n",
            "Train Loss: 0.3279 - Train Accuracy: 87.41%\n",
            "Epoch [10/50]                              \n",
            "Train Loss: 0.3368 - Train Accuracy: 87.35%\n",
            "Epoch [11/50]                              \n",
            "Train Loss: 0.3292 - Train Accuracy: 87.50%\n",
            "Epoch [12/50]                              \n",
            "Train Loss: 0.3228 - Train Accuracy: 87.41%\n",
            "Epoch [13/50]                              \n",
            "Train Loss: 0.3338 - Train Accuracy: 87.33%\n",
            "Epoch [14/50]                              \n",
            "Train Loss: 0.3021 - Train Accuracy: 88.62%\n",
            "Epoch [15/50]                              \n",
            "Train Loss: 0.2870 - Train Accuracy: 89.09%\n",
            "Epoch [16/50]                              \n",
            "Train Loss: 0.2806 - Train Accuracy: 89.54%\n",
            "Epoch [17/50]                              \n",
            "Train Loss: 0.2774 - Train Accuracy: 89.56%\n",
            "Epoch [18/50]                              \n",
            "Train Loss: 0.2704 - Train Accuracy: 90.12%\n",
            "Epoch [19/50]                              \n",
            "Train Loss: 0.2632 - Train Accuracy: 89.79%\n",
            "Epoch [20/50]                              \n",
            "Train Loss: 0.2640 - Train Accuracy: 89.61%\n",
            "Epoch [21/50]                              \n",
            "Train Loss: 0.2495 - Train Accuracy: 90.59%\n",
            "Epoch [22/50]                              \n",
            "Train Loss: 0.2386 - Train Accuracy: 90.74%\n",
            "Epoch [23/50]                              \n",
            "Train Loss: 0.2587 - Train Accuracy: 90.01%\n",
            "Epoch [24/50]                              \n",
            "Train Loss: 0.2510 - Train Accuracy: 90.37%\n",
            "Epoch [25/50]                              \n",
            "Train Loss: 0.2347 - Train Accuracy: 90.88%\n",
            "Epoch [26/50]                              \n",
            "Train Loss: 0.2298 - Train Accuracy: 91.20%\n",
            "Epoch [27/50]                              \n",
            "Train Loss: 0.2272 - Train Accuracy: 91.33%\n",
            "Epoch [28/50]                              \n",
            "Train Loss: 0.2296 - Train Accuracy: 91.41%\n",
            "Epoch [29/50]                              \n",
            "Train Loss: 0.2243 - Train Accuracy: 91.48%\n",
            "Epoch [30/50]                              \n",
            "Train Loss: 0.2205 - Train Accuracy: 91.54%\n",
            "Epoch [31/50]                              \n",
            "Train Loss: 0.2053 - Train Accuracy: 92.15%\n",
            "Epoch [32/50]                              \n",
            "Train Loss: 0.1985 - Train Accuracy: 92.53%\n",
            "Epoch [33/50]                              \n",
            "Train Loss: 0.2036 - Train Accuracy: 92.22%\n",
            "Epoch [34/50]                              \n",
            "Train Loss: 0.1853 - Train Accuracy: 93.03%\n",
            "Epoch [35/50]                              \n",
            "Train Loss: 0.1684 - Train Accuracy: 93.68%\n",
            "Epoch [36/50]                              \n",
            "Train Loss: 0.1612 - Train Accuracy: 94.00%\n",
            "Epoch [37/50]                              \n",
            "Train Loss: 0.1538 - Train Accuracy: 94.09%\n",
            "Epoch [38/50]                              \n",
            "Train Loss: 0.1422 - Train Accuracy: 94.76%\n",
            "Epoch [39/50]                              \n",
            "Train Loss: 0.1379 - Train Accuracy: 94.73%\n",
            "Epoch [40/50]                              \n",
            "Train Loss: 0.1236 - Train Accuracy: 95.44%\n",
            "Epoch [41/50]                              \n",
            "Train Loss: 0.1039 - Train Accuracy: 96.23%\n",
            "Epoch [42/50]                              \n",
            "Train Loss: 0.0872 - Train Accuracy: 96.93%\n",
            "Epoch [43/50]                              \n",
            "Train Loss: 0.0803 - Train Accuracy: 97.04%\n",
            "Epoch [44/50]                              \n",
            "Train Loss: 0.0772 - Train Accuracy: 97.20%\n",
            "Epoch [45/50]                              \n",
            "Train Loss: 0.0626 - Train Accuracy: 97.81%\n",
            "Epoch [46/50]                              \n",
            "Train Loss: 0.0494 - Train Accuracy: 98.27%\n",
            "Epoch [47/50]                              \n",
            "Train Loss: 0.0410 - Train Accuracy: 98.76%\n",
            "Epoch [48/50]                              \n",
            "Train Loss: 0.0377 - Train Accuracy: 98.79%\n",
            "Epoch [49/50]                              \n",
            "Train Loss: 0.0364 - Train Accuracy: 98.92%\n",
            "Epoch [50/50]                              \n",
            "Train Loss: 0.0357 - Train Accuracy: 98.88%\n"
          ]
        }
      ]
    },
    {
      "cell_type": "code",
      "source": [
        "acc, loss = dataset_eval(final_loader, model_final, criterion_final, device)\n",
        "print(f'Accuracy of the model on the 10000 train images: {acc:.3%}')\n",
        "print(f'Loss of the model on the 10000 train images: {loss:.5f}')\n",
        "\n",
        "print()\n",
        "\n",
        "acc, loss = dataset_eval(test_loader, model_final, criterion_final, device)\n",
        "print(f'Accuracy of the model on the 5000 test images: {acc:.3%}')\n",
        "print(f'Loss of the model on the 5000 test images: {loss:.5f}')"
      ],
      "metadata": {
        "id": "v300YhtjaqeD",
        "colab": {
          "base_uri": "https://localhost:8080/"
        },
        "outputId": "9df2137b-69f3-455d-fb93-4a442199b488"
      },
      "execution_count": 10,
      "outputs": [
        {
          "output_type": "stream",
          "name": "stderr",
          "text": [
            "/usr/local/lib/python3.8/dist-packages/torch/utils/data/dataloader.py:554: UserWarning: This DataLoader will create 3 worker processes in total. Our suggested max number of worker in current system is 2, which is smaller than what this DataLoader is going to create. Please be aware that excessive worker creation might get DataLoader running slow or even freeze, lower the worker number to avoid potential slowness/freeze if necessary.\n",
            "  warnings.warn(_create_warning_msg(\n"
          ]
        },
        {
          "output_type": "stream",
          "name": "stdout",
          "text": [
            "Accuracy of the model on the 10000 train images: 99.050%\n",
            "Loss of the model on the 10000 train images: 0.03381\n",
            "\n",
            "Accuracy of the model on the 5000 test images: 91.040%\n",
            "Loss of the model on the 5000 test images: 0.30737\n"
          ]
        }
      ]
    },
    {
      "cell_type": "code",
      "source": [
        "classes = [\"T-shirt/top\", \"Trouser\", \"Pullover\", \"Dress\", \"Shirt\"]\n",
        "# plot confusion matrix from model_final\n",
        "\n",
        "target = to_device(torch.tensor([]), device)\n",
        "preds = to_device(torch.tensor([]), device)\n",
        "\n",
        "model_final.eval()\n",
        "for images, labels in final_loader:\n",
        "    images = to_device(images, device)\n",
        "    labels = to_device(labels, device)\n",
        "    pred = model_final(images).max(1).indices\n",
        "    target = torch.concat([target, labels])\n",
        "    preds = torch.concat([preds, pred])\n",
        "\n",
        "target = target.tolist()\n",
        "preds = preds.tolist()\n",
        "\n",
        "cm = confusion_matrix(target, preds)\n",
        "\n",
        "cm = cm.astype('float') / cm.sum()\n",
        "fig, ax = plt.subplots(figsize=(12, 10))\n",
        "sns.heatmap(cm, annot=True, fmt='.2%', xticklabels=classes, yticklabels=classes, annot_kws={\"size\":20})\n",
        "plt.ylabel('Actual', fontsize=20)\n",
        "plt.xlabel('Predicted', fontsize=20)\n",
        "plt.tick_params(axis='both', which='major', labelsize=20)\n",
        "plt.tight_layout()\n",
        "plt.savefig('cm_cnn.png')"
      ],
      "metadata": {
        "colab": {
          "base_uri": "https://localhost:8080/",
          "height": 783
        },
        "id": "mw6cukz4n2nj",
        "outputId": "1c72cea5-b25c-44b7-b952-1e37e1eda10e"
      },
      "execution_count": 32,
      "outputs": [
        {
          "output_type": "stream",
          "name": "stderr",
          "text": [
            "/usr/local/lib/python3.8/dist-packages/torch/utils/data/dataloader.py:554: UserWarning: This DataLoader will create 3 worker processes in total. Our suggested max number of worker in current system is 2, which is smaller than what this DataLoader is going to create. Please be aware that excessive worker creation might get DataLoader running slow or even freeze, lower the worker number to avoid potential slowness/freeze if necessary.\n",
            "  warnings.warn(_create_warning_msg(\n"
          ]
        },
        {
          "output_type": "display_data",
          "data": {
            "text/plain": [
              "<Figure size 864x720 with 2 Axes>"
            ],
            "image/png": "[encoded data removed]"
          },
          "metadata": {
            "needs_background": "light"
          }
        }
      ]
    },
    {
      "cell_type": "markdown",
      "source": [
        "### Saving of the model"
      ],
      "metadata": {
        "id": "V4s2foEurM4v"
      }
    },
    {
      "cell_type": "code",
      "source": [
        "PATH = f\"model_final.pth\"\n",
        "\n",
        "torch.save(model_final.state_dict(), PATH)"
      ],
      "metadata": {
        "id": "p7z3ABKerPCV"
      },
      "execution_count": 28,
      "outputs": []
    },
    {
      "cell_type": "code",
      "source": [],
      "metadata": {
        "id": "HxMuT2bdyzbx"
      },
      "execution_count": null,
      "outputs": []
    }
  ]
}